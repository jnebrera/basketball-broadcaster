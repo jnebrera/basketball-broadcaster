{
  "nbformat": 4,
  "nbformat_minor": 0,
  "metadata": {
    "colab": {
      "provenance": [],
      "gpuType": "T4"
    },
    "kernelspec": {
      "name": "python3",
      "display_name": "Python 3"
    },
    "language_info": {
      "name": "python"
    },
    "accelerator": "GPU"
  },
  "cells": [
    {
      "cell_type": "code",
      "execution_count": 4,
      "metadata": {
        "id": "jFs5DBBNykg2",
        "colab": {
          "base_uri": "https://localhost:8080/"
        },
        "outputId": "a0a740a5-9dd3-4686-c356-c3f836494113"
      },
      "outputs": [
        {
          "output_type": "stream",
          "name": "stdout",
          "text": [
            "Drive already mounted at /content/drive; to attempt to forcibly remount, call drive.mount(\"/content/drive\", force_remount=True).\n"
          ]
        }
      ],
      "source": [
        "from google.colab import drive\n",
        "drive.mount('/content/drive')"
      ]
    },
    {
      "cell_type": "markdown",
      "source": [
        "To install dependencies"
      ],
      "metadata": {
        "id": "L-FnxsDczL_x"
      }
    },
    {
      "cell_type": "code",
      "source": [
        "!pip install norfair\n",
        "!pip install nvidia-tensorrt==8.4.1.5\n",
        "!pip install onnx onnxruntime-gpu\n",
        "!pip install ultralytics\n",
        "!pip install numpy==1.23.4"
      ],
      "metadata": {
        "id": "ln2GTx-RzLJy",
        "colab": {
          "base_uri": "https://localhost:8080/"
        },
        "outputId": "7065aa55-4b11-4464-a50d-3ea49b800836"
      },
      "execution_count": 6,
      "outputs": [
        {
          "output_type": "stream",
          "name": "stdout",
          "text": [
            "Requirement already satisfied: norfair in /usr/local/lib/python3.10/dist-packages (2.2.0)\n",
            "Requirement already satisfied: filterpy<2.0.0,>=1.4.5 in /usr/local/lib/python3.10/dist-packages (from norfair) (1.4.5)\n",
            "Requirement already satisfied: numpy<2.0.0,>=1.23.0 in /usr/local/lib/python3.10/dist-packages (from norfair) (1.23.4)\n",
            "Requirement already satisfied: rich<13.0.0,>=9.10.0 in /usr/local/lib/python3.10/dist-packages (from norfair) (12.6.0)\n",
            "Requirement already satisfied: scipy>=1.5.4 in /usr/local/lib/python3.10/dist-packages (from norfair) (1.10.1)\n",
            "Requirement already satisfied: matplotlib in /usr/local/lib/python3.10/dist-packages (from filterpy<2.0.0,>=1.4.5->norfair) (3.7.1)\n",
            "Requirement already satisfied: commonmark<0.10.0,>=0.9.0 in /usr/local/lib/python3.10/dist-packages (from rich<13.0.0,>=9.10.0->norfair) (0.9.1)\n",
            "Requirement already satisfied: pygments<3.0.0,>=2.6.0 in /usr/local/lib/python3.10/dist-packages (from rich<13.0.0,>=9.10.0->norfair) (2.14.0)\n",
            "Requirement already satisfied: contourpy>=1.0.1 in /usr/local/lib/python3.10/dist-packages (from matplotlib->filterpy<2.0.0,>=1.4.5->norfair) (1.1.0)\n",
            "Requirement already satisfied: cycler>=0.10 in /usr/local/lib/python3.10/dist-packages (from matplotlib->filterpy<2.0.0,>=1.4.5->norfair) (0.11.0)\n",
            "Requirement already satisfied: fonttools>=4.22.0 in /usr/local/lib/python3.10/dist-packages (from matplotlib->filterpy<2.0.0,>=1.4.5->norfair) (4.41.0)\n",
            "Requirement already satisfied: kiwisolver>=1.0.1 in /usr/local/lib/python3.10/dist-packages (from matplotlib->filterpy<2.0.0,>=1.4.5->norfair) (1.4.4)\n",
            "Requirement already satisfied: packaging>=20.0 in /usr/local/lib/python3.10/dist-packages (from matplotlib->filterpy<2.0.0,>=1.4.5->norfair) (23.1)\n",
            "Requirement already satisfied: pillow>=6.2.0 in /usr/local/lib/python3.10/dist-packages (from matplotlib->filterpy<2.0.0,>=1.4.5->norfair) (8.4.0)\n",
            "Requirement already satisfied: pyparsing>=2.3.1 in /usr/local/lib/python3.10/dist-packages (from matplotlib->filterpy<2.0.0,>=1.4.5->norfair) (3.1.0)\n",
            "Requirement already satisfied: python-dateutil>=2.7 in /usr/local/lib/python3.10/dist-packages (from matplotlib->filterpy<2.0.0,>=1.4.5->norfair) (2.8.2)\n",
            "Requirement already satisfied: six>=1.5 in /usr/local/lib/python3.10/dist-packages (from python-dateutil>=2.7->matplotlib->filterpy<2.0.0,>=1.4.5->norfair) (1.16.0)\n",
            "Requirement already satisfied: nvidia-tensorrt==8.4.1.5 in /usr/local/lib/python3.10/dist-packages (8.4.1.5)\n",
            "Requirement already satisfied: nvidia-cuda-runtime-cu11 in /usr/local/lib/python3.10/dist-packages (from nvidia-tensorrt==8.4.1.5) (11.8.89)\n",
            "Requirement already satisfied: nvidia-cudnn-cu11 in /usr/local/lib/python3.10/dist-packages (from nvidia-tensorrt==8.4.1.5) (8.9.2.26)\n",
            "Requirement already satisfied: nvidia-cublas-cu11 in /usr/local/lib/python3.10/dist-packages (from nvidia-tensorrt==8.4.1.5) (11.11.3.6)\n",
            "Requirement already satisfied: onnx in /usr/local/lib/python3.10/dist-packages (1.14.0)\n",
            "Requirement already satisfied: onnxruntime-gpu in /usr/local/lib/python3.10/dist-packages (1.15.1)\n",
            "Requirement already satisfied: numpy in /usr/local/lib/python3.10/dist-packages (from onnx) (1.23.4)\n",
            "Requirement already satisfied: protobuf>=3.20.2 in /usr/local/lib/python3.10/dist-packages (from onnx) (3.20.3)\n",
            "Requirement already satisfied: typing-extensions>=3.6.2.1 in /usr/local/lib/python3.10/dist-packages (from onnx) (4.7.1)\n",
            "Requirement already satisfied: coloredlogs in /usr/local/lib/python3.10/dist-packages (from onnxruntime-gpu) (15.0.1)\n",
            "Requirement already satisfied: flatbuffers in /usr/local/lib/python3.10/dist-packages (from onnxruntime-gpu) (23.5.26)\n",
            "Requirement already satisfied: packaging in /usr/local/lib/python3.10/dist-packages (from onnxruntime-gpu) (23.1)\n",
            "Requirement already satisfied: sympy in /usr/local/lib/python3.10/dist-packages (from onnxruntime-gpu) (1.11.1)\n",
            "Requirement already satisfied: humanfriendly>=9.1 in /usr/local/lib/python3.10/dist-packages (from coloredlogs->onnxruntime-gpu) (10.0)\n",
            "Requirement already satisfied: mpmath>=0.19 in /usr/local/lib/python3.10/dist-packages (from sympy->onnxruntime-gpu) (1.3.0)\n",
            "Collecting ultralytics\n",
            "  Downloading ultralytics-8.0.141-py3-none-any.whl (607 kB)\n",
            "\u001b[2K     \u001b[90m━━━━━━━━━━━━━━━━━━━━━━━━━━━━━━━━━━━━━━━\u001b[0m \u001b[32m607.6/607.6 kB\u001b[0m \u001b[31m6.5 MB/s\u001b[0m eta \u001b[36m0:00:00\u001b[0m\n",
            "\u001b[?25hRequirement already satisfied: matplotlib>=3.2.2 in /usr/local/lib/python3.10/dist-packages (from ultralytics) (3.7.1)\n",
            "Requirement already satisfied: opencv-python>=4.6.0 in /usr/local/lib/python3.10/dist-packages (from ultralytics) (4.7.0.72)\n",
            "Requirement already satisfied: Pillow>=7.1.2 in /usr/local/lib/python3.10/dist-packages (from ultralytics) (8.4.0)\n",
            "Requirement already satisfied: PyYAML>=5.3.1 in /usr/local/lib/python3.10/dist-packages (from ultralytics) (6.0.1)\n",
            "Requirement already satisfied: requests>=2.23.0 in /usr/local/lib/python3.10/dist-packages (from ultralytics) (2.27.1)\n",
            "Requirement already satisfied: scipy>=1.4.1 in /usr/local/lib/python3.10/dist-packages (from ultralytics) (1.10.1)\n",
            "Requirement already satisfied: torch>=1.7.0 in /usr/local/lib/python3.10/dist-packages (from ultralytics) (2.0.1+cu118)\n",
            "Requirement already satisfied: torchvision>=0.8.1 in /usr/local/lib/python3.10/dist-packages (from ultralytics) (0.15.2+cu118)\n",
            "Requirement already satisfied: tqdm>=4.64.0 in /usr/local/lib/python3.10/dist-packages (from ultralytics) (4.65.0)\n",
            "Requirement already satisfied: pandas>=1.1.4 in /usr/local/lib/python3.10/dist-packages (from ultralytics) (1.5.3)\n",
            "Requirement already satisfied: seaborn>=0.11.0 in /usr/local/lib/python3.10/dist-packages (from ultralytics) (0.12.2)\n",
            "Requirement already satisfied: psutil in /usr/local/lib/python3.10/dist-packages (from ultralytics) (5.9.5)\n",
            "Requirement already satisfied: contourpy>=1.0.1 in /usr/local/lib/python3.10/dist-packages (from matplotlib>=3.2.2->ultralytics) (1.1.0)\n",
            "Requirement already satisfied: cycler>=0.10 in /usr/local/lib/python3.10/dist-packages (from matplotlib>=3.2.2->ultralytics) (0.11.0)\n",
            "Requirement already satisfied: fonttools>=4.22.0 in /usr/local/lib/python3.10/dist-packages (from matplotlib>=3.2.2->ultralytics) (4.41.0)\n",
            "Requirement already satisfied: kiwisolver>=1.0.1 in /usr/local/lib/python3.10/dist-packages (from matplotlib>=3.2.2->ultralytics) (1.4.4)\n",
            "Requirement already satisfied: numpy>=1.20 in /usr/local/lib/python3.10/dist-packages (from matplotlib>=3.2.2->ultralytics) (1.23.4)\n",
            "Requirement already satisfied: packaging>=20.0 in /usr/local/lib/python3.10/dist-packages (from matplotlib>=3.2.2->ultralytics) (23.1)\n",
            "Requirement already satisfied: pyparsing>=2.3.1 in /usr/local/lib/python3.10/dist-packages (from matplotlib>=3.2.2->ultralytics) (3.1.0)\n",
            "Requirement already satisfied: python-dateutil>=2.7 in /usr/local/lib/python3.10/dist-packages (from matplotlib>=3.2.2->ultralytics) (2.8.2)\n",
            "Requirement already satisfied: pytz>=2020.1 in /usr/local/lib/python3.10/dist-packages (from pandas>=1.1.4->ultralytics) (2022.7.1)\n",
            "Requirement already satisfied: urllib3<1.27,>=1.21.1 in /usr/local/lib/python3.10/dist-packages (from requests>=2.23.0->ultralytics) (1.26.16)\n",
            "Requirement already satisfied: certifi>=2017.4.17 in /usr/local/lib/python3.10/dist-packages (from requests>=2.23.0->ultralytics) (2023.5.7)\n",
            "Requirement already satisfied: charset-normalizer~=2.0.0 in /usr/local/lib/python3.10/dist-packages (from requests>=2.23.0->ultralytics) (2.0.12)\n",
            "Requirement already satisfied: idna<4,>=2.5 in /usr/local/lib/python3.10/dist-packages (from requests>=2.23.0->ultralytics) (3.4)\n",
            "Requirement already satisfied: filelock in /usr/local/lib/python3.10/dist-packages (from torch>=1.7.0->ultralytics) (3.12.2)\n",
            "Requirement already satisfied: typing-extensions in /usr/local/lib/python3.10/dist-packages (from torch>=1.7.0->ultralytics) (4.7.1)\n",
            "Requirement already satisfied: sympy in /usr/local/lib/python3.10/dist-packages (from torch>=1.7.0->ultralytics) (1.11.1)\n",
            "Requirement already satisfied: networkx in /usr/local/lib/python3.10/dist-packages (from torch>=1.7.0->ultralytics) (3.1)\n",
            "Requirement already satisfied: jinja2 in /usr/local/lib/python3.10/dist-packages (from torch>=1.7.0->ultralytics) (3.1.2)\n",
            "Requirement already satisfied: triton==2.0.0 in /usr/local/lib/python3.10/dist-packages (from torch>=1.7.0->ultralytics) (2.0.0)\n",
            "Requirement already satisfied: cmake in /usr/local/lib/python3.10/dist-packages (from triton==2.0.0->torch>=1.7.0->ultralytics) (3.25.2)\n",
            "Requirement already satisfied: lit in /usr/local/lib/python3.10/dist-packages (from triton==2.0.0->torch>=1.7.0->ultralytics) (16.0.6)\n",
            "Requirement already satisfied: six>=1.5 in /usr/local/lib/python3.10/dist-packages (from python-dateutil>=2.7->matplotlib>=3.2.2->ultralytics) (1.16.0)\n",
            "Requirement already satisfied: MarkupSafe>=2.0 in /usr/local/lib/python3.10/dist-packages (from jinja2->torch>=1.7.0->ultralytics) (2.1.3)\n",
            "Requirement already satisfied: mpmath>=0.19 in /usr/local/lib/python3.10/dist-packages (from sympy->torch>=1.7.0->ultralytics) (1.3.0)\n",
            "Installing collected packages: ultralytics\n",
            "Successfully installed ultralytics-8.0.141\n",
            "Requirement already satisfied: numpy==1.23.4 in /usr/local/lib/python3.10/dist-packages (1.23.4)\n"
          ]
        }
      ]
    },
    {
      "cell_type": "markdown",
      "source": [
        "Milestone 1 (Player detection using the YOLOv8 models trained on COCO dataset)"
      ],
      "metadata": {
        "id": "JcYTgxODsT8G"
      }
    },
    {
      "cell_type": "code",
      "source": [
        "import sys\n",
        "root_path = '/content/drive/MyDrive/basketball-broadcaster'\n",
        "sys.path.append(root_path)\n",
        "\n",
        "import os\n",
        "os.chdir(root_path)\n",
        "\n",
        "import cv2\n",
        "from inference.yolov8 import YOLOv8\n",
        "from norfair import Video\n",
        "import time\n",
        "\n",
        "from ultralytics import YOLO\n",
        "\n",
        "model = YOLO(\"yolov8m.pt\")\n",
        "model.export(format=\"onnx\")\n",
        "model = YOLO(\"yolov8l.pt\")\n",
        "model.export(format=\"onnx\")\n",
        "model = YOLO(\"yolov8x.pt\")\n",
        "model.export(format=\"onnx\")"
      ],
      "metadata": {
        "id": "DGSyPdF50Z_h",
        "colab": {
          "base_uri": "https://localhost:8080/",
          "height": 1000
        },
        "outputId": "2b3245ac-fe06-48d3-e6f0-deaeb1b77e6a"
      },
      "execution_count": 8,
      "outputs": [
        {
          "output_type": "stream",
          "name": "stderr",
          "text": [
            "Ultralytics YOLOv8.0.141 🚀 Python-3.10.6 torch-2.0.1+cu118 CPU (Intel Xeon 2.30GHz)\n",
            "YOLOv8m summary (fused): 218 layers, 25886080 parameters, 0 gradients\n",
            "\n",
            "\u001b[34m\u001b[1mPyTorch:\u001b[0m starting from 'yolov8m.pt' with input shape (1, 3, 640, 640) BCHW and output shape(s) (1, 84, 8400) (49.7 MB)\n",
            "\n",
            "\u001b[34m\u001b[1mONNX:\u001b[0m starting export with onnx 1.14.0 opset 17...\n"
          ]
        },
        {
          "output_type": "stream",
          "name": "stdout",
          "text": [
            "============= Diagnostic Run torch.onnx.export version 2.0.1+cu118 =============\n",
            "verbose: False, log level: Level.ERROR\n",
            "======================= 0 NONE 0 NOTE 0 WARNING 0 ERROR ========================\n",
            "\n"
          ]
        },
        {
          "output_type": "stream",
          "name": "stderr",
          "text": [
            "\u001b[34m\u001b[1mONNX:\u001b[0m export success ✅ 5.0s, saved as 'yolov8m.onnx' (99.0 MB)\n",
            "\n",
            "Export complete (9.4s)\n",
            "Results saved to \u001b[1m/content/drive/MyDrive/basketball-broadcaster\u001b[0m\n",
            "Predict:         yolo predict task=detect model=yolov8m.onnx imgsz=640 \n",
            "Validate:        yolo val task=detect model=yolov8m.onnx imgsz=640 data=coco.yaml \n",
            "Visualize:       https://netron.app\n",
            "Downloading https://github.com/ultralytics/assets/releases/download/v0.0.0/yolov8l.pt to 'yolov8l.pt'...\n",
            "100%|██████████| 83.7M/83.7M [00:02<00:00, 43.7MB/s]\n",
            "Ultralytics YOLOv8.0.141 🚀 Python-3.10.6 torch-2.0.1+cu118 CPU (Intel Xeon 2.30GHz)\n",
            "YOLOv8l summary (fused): 268 layers, 43668288 parameters, 0 gradients\n",
            "\n",
            "\u001b[34m\u001b[1mPyTorch:\u001b[0m starting from 'yolov8l.pt' with input shape (1, 3, 640, 640) BCHW and output shape(s) (1, 84, 8400) (83.7 MB)\n",
            "\n",
            "\u001b[34m\u001b[1mONNX:\u001b[0m starting export with onnx 1.14.0 opset 17...\n"
          ]
        },
        {
          "output_type": "stream",
          "name": "stdout",
          "text": [
            "============= Diagnostic Run torch.onnx.export version 2.0.1+cu118 =============\n",
            "verbose: False, log level: Level.ERROR\n",
            "======================= 0 NONE 0 NOTE 0 WARNING 0 ERROR ========================\n",
            "\n"
          ]
        },
        {
          "output_type": "stream",
          "name": "stderr",
          "text": [
            "\u001b[34m\u001b[1mONNX:\u001b[0m export success ✅ 7.5s, saved as 'yolov8l.onnx' (166.8 MB)\n",
            "\n",
            "Export complete (15.4s)\n",
            "Results saved to \u001b[1m/content/drive/MyDrive/basketball-broadcaster\u001b[0m\n",
            "Predict:         yolo predict task=detect model=yolov8l.onnx imgsz=640 \n",
            "Validate:        yolo val task=detect model=yolov8l.onnx imgsz=640 data=coco.yaml \n",
            "Visualize:       https://netron.app\n",
            "Downloading https://github.com/ultralytics/assets/releases/download/v0.0.0/yolov8x.pt to 'yolov8x.pt'...\n",
            "100%|██████████| 131M/131M [00:00<00:00, 144MB/s]\n",
            "Ultralytics YOLOv8.0.141 🚀 Python-3.10.6 torch-2.0.1+cu118 CPU (Intel Xeon 2.30GHz)\n",
            "YOLOv8x summary (fused): 268 layers, 68200608 parameters, 0 gradients\n",
            "\n",
            "\u001b[34m\u001b[1mPyTorch:\u001b[0m starting from 'yolov8x.pt' with input shape (1, 3, 640, 640) BCHW and output shape(s) (1, 84, 8400) (130.5 MB)\n",
            "\n",
            "\u001b[34m\u001b[1mONNX:\u001b[0m starting export with onnx 1.14.0 opset 17...\n"
          ]
        },
        {
          "output_type": "stream",
          "name": "stdout",
          "text": [
            "============= Diagnostic Run torch.onnx.export version 2.0.1+cu118 =============\n",
            "verbose: False, log level: Level.ERROR\n",
            "======================= 0 NONE 0 NOTE 0 WARNING 0 ERROR ========================\n",
            "\n"
          ]
        },
        {
          "output_type": "stream",
          "name": "stderr",
          "text": [
            "\u001b[34m\u001b[1mONNX:\u001b[0m export success ✅ 8.6s, saved as 'yolov8x.onnx' (260.4 MB)\n",
            "\n",
            "Export complete (24.2s)\n",
            "Results saved to \u001b[1m/content/drive/MyDrive/basketball-broadcaster\u001b[0m\n",
            "Predict:         yolo predict task=detect model=yolov8x.onnx imgsz=640 \n",
            "Validate:        yolo val task=detect model=yolov8x.onnx imgsz=640 data=coco.yaml \n",
            "Visualize:       https://netron.app\n"
          ]
        },
        {
          "output_type": "execute_result",
          "data": {
            "text/plain": [
              "'yolov8x.onnx'"
            ],
            "application/vnd.google.colaboratory.intrinsic+json": {
              "type": "string"
            }
          },
          "metadata": {},
          "execution_count": 8
        }
      ]
    },
    {
      "cell_type": "code",
      "source": [
        "model_paths = ['./yolov8m.onnx', './yolov8l.onnx', './yolov8x.onnx']\n",
        "model_level = 0\n",
        "player_detector = YOLOv8(path=model_paths[model_level], conf_thres=0.3, iou_thres=0.3)"
      ],
      "metadata": {
        "id": "2tDAvGvL59Yq"
      },
      "execution_count": 9,
      "outputs": []
    },
    {
      "cell_type": "code",
      "source": [
        "def draw_player_detections(image, boxes, scores, class_ids):\n",
        "    det_img = image.copy()\n",
        "\n",
        "    img_height, img_width = image.shape[:2]\n",
        "    size = min([img_height, img_width]) * 0.0006\n",
        "    text_thickness = int(min([img_height, img_width]) * 0.001)\n",
        "\n",
        "    # Draw bounding boxes and labels of detections\n",
        "    for box, score, class_id in zip(boxes, scores, class_ids):\n",
        "        if class_id != 0:\n",
        "            continue\n",
        "\n",
        "        color = (0, 255, 0)\n",
        "\n",
        "        x1, y1, x2, y2 = box.astype(int)\n",
        "\n",
        "        # Draw rectangle\n",
        "        cv2.rectangle(det_img, (x1, y1), (x2, y2), color, 2)\n",
        "\n",
        "        caption = '%.2f' % (score)\n",
        "        (tw, th), _ = cv2.getTextSize(text=caption, fontFace=cv2.FONT_HERSHEY_SIMPLEX,\n",
        "                                      fontScale=size, thickness=text_thickness)\n",
        "        th = int(th * 1.2)\n",
        "\n",
        "        cv2.rectangle(det_img, (x1, y1),\n",
        "                      (x1 + tw, y1 - th), color, -1)\n",
        "        cv2.putText(det_img, caption, (x1, y1),\n",
        "                    cv2.FONT_HERSHEY_SIMPLEX, size, (255, 255, 255), text_thickness, cv2.LINE_AA)\n",
        "\n",
        "    return det_img\n",
        "\n",
        "video = Video(input_path='videos/test1_clip.mp4', output_fps=30)\n",
        "\n",
        "frame_cnt = 0\n",
        "total_time = 0\n",
        "for i, frame in enumerate(video):\n",
        "    st = time.time()\n",
        "    boxes, scores, class_ids = player_detector(frame)\n",
        "    elapsed = time.time() - st\n",
        "\n",
        "    total_time += elapsed\n",
        "    fps = frame_cnt // total_time\n",
        "\n",
        "    frame = draw_player_detections(frame, boxes, scores, class_ids)\n",
        "\n",
        "    h, w = frame.shape[:2]\n",
        "    cv2.putText(frame, 'FPS: {}'.format(fps), (100, 50), cv2.FONT_HERSHEY_SIMPLEX,\n",
        "                1.0, (255, 0, 0), 2, cv2.LINE_AA)\n",
        "\n",
        "    frame_cnt += 1\n",
        "    video.write(frame)"
      ],
      "metadata": {
        "id": "AnlE0Mud5P2L"
      },
      "execution_count": null,
      "outputs": []
    }
  ]
}