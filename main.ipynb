{
  "cells": [
    {
      "cell_type": "code",
      "execution_count": null,
      "metadata": {
        "id": "jFs5DBBNykg2"
      },
      "outputs": [],
      "source": [
        "from google.colab import drive\n",
        "drive.mount('/content/drive')"
      ]
    },
    {
      "cell_type": "markdown",
      "metadata": {
        "id": "L-FnxsDczL_x"
      },
      "source": [
        "To install dependencies\n",
        "\n",
        "Note: After installation, please restart the runtime if it is required."
      ]
    },
    {
      "cell_type": "code",
      "execution_count": null,
      "metadata": {
        "id": "ln2GTx-RzLJy"
      },
      "outputs": [],
      "source": [
        "!pip install ultralytics\n",
        "!pip install av"
      ]
    },
    {
      "cell_type": "markdown",
      "metadata": {
        "id": "JcYTgxODsT8G"
      },
      "source": [
        "Milestone 1 (Player detection using the YOLOv8 models trained on COCO dataset)"
      ]
    },
    {
      "cell_type": "code",
      "execution_count": null,
      "metadata": {
        "id": "DGSyPdF50Z_h"
      },
      "outputs": [],
      "source": [
        "import sys\n",
        "root_path = '/content/drive/MyDrive/basketball-broadcaster'\n",
        "sys.path.append(root_path)\n",
        "\n",
        "import os\n",
        "os.chdir(root_path)\n",
        "\n",
        "import cv2\n",
        "from yolov8 import YOLOv8\n",
        "import time\n",
        "import av\n",
        "import numpy as np\n",
        "from PIL import Image\n",
        "\n",
        "# We can use 5 kinds of YOLOv8 models\n",
        "player_detector = YOLOv8('yolov8m.pt') # 'yolov8n.pt', 'yolov8s.pt', 'yolov8m.pt', 'yolov8l.pt' or 'yolov8x.pt'\n",
        "\n",
        "input_ = av.open(\"videos/test1_clip.mp4\")\n",
        "output = av.open(\"output.mp4\", \"w\")\n",
        "\n",
        "# Make an output video stream using the input video stream as a template\n",
        "in_video_stream = input_.streams.video[0]\n",
        "out_video_stream = output.add_stream(codec_name=\"h264\",\n",
        "                                     width=in_video_stream.width,\n",
        "                                     height=in_video_stream.height,\n",
        "                                     rate=int(in_video_stream.average_rate),\n",
        "                                     bit_rate = in_video_stream.bit_rate,\n",
        "                                     pix_fmt=in_video_stream.pix_fmt)\n",
        "\n",
        "# Make an output audio stream using the input audio stream as a template\n",
        "in_audio_stream = input_.streams.audio[0]\n",
        "out_audio_stream = output.add_stream(template=in_audio_stream)\n",
        "\n",
        "\n",
        "for packet in input_.demux():\n",
        "    # We need to skip the \"flushing\" packets that `demux` generates.\n",
        "    if packet.dts is None:\n",
        "        continue\n",
        "\n",
        "    if packet.stream == in_video_stream:\n",
        "        for frame in packet.decode():\n",
        "            # To get an input frame\n",
        "            image = frame.to_image()\n",
        "            image = np.asarray(image)\n",
        "            image = cv2.cvtColor(image, cv2.COLOR_RGB2BGR)\n",
        "\n",
        "            # To process the input frame\n",
        "            boxes, scores, class_ids = player_detector.detect(image)\n",
        "            image = player_detector.draw_detection(image, boxes, scores, class_ids)\n",
        "            image = cv2.cvtColor(image, cv2.COLOR_BGR2RGB)\n",
        "            image = Image.fromarray(image)\n",
        "\n",
        "            output_frame = av.VideoFrame.from_image(image)\n",
        "            output_frame.pts = None\n",
        "            for output_packet in out_video_stream.encode(output_frame):\n",
        "                # Write the packets to the container\n",
        "                output_packet.stream = out_video_stream\n",
        "                output.mux(output_packet)\n",
        "    elif packet.stream == in_audio_stream:\n",
        "        packet.stream = out_audio_stream\n",
        "        output.mux(packet)\n",
        "\n",
        "input_.close()\n",
        "output.close()"
      ]
    }
  ],
  "metadata": {
    "accelerator": "GPU",
    "colab": {
      "provenance": []
    },
    "kernelspec": {
      "display_name": "Python 3",
      "name": "python3"
    },
    "language_info": {
      "name": "python"
    }
  },
  "nbformat": 4,
  "nbformat_minor": 0
}