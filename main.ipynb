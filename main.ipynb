{
  "cells": [
    {
      "attachments": {},
      "cell_type": "markdown",
      "metadata": {
        "id": "JcYTgxODsT8G"
      },
      "source": [
        "Milestone 1 (Player detection using the YOLOv8 models trained on COCO dataset)"
      ]
    },
    {
      "attachments": {},
      "cell_type": "markdown",
      "metadata": {
        "id": "L-FnxsDczL_x"
      },
      "source": [
        "To install dependencies\n",
        "\n",
        "Note: After installation, please click \"RESTART RUNTIME\" to restart the runtime."
      ]
    },
    {
      "cell_type": "code",
      "execution_count": null,
      "metadata": {
        "colab": {
          "base_uri": "https://localhost:8080/",
          "height": 1000
        },
        "id": "ln2GTx-RzLJy",
        "outputId": "7dda5fff-d840-4f2b-c696-559437e5c900"
      },
      "outputs": [],
      "source": [
        "!pip install norfair\n",
        "!pip install ultralytics"
      ]
    },
    {
      "cell_type": "code",
      "execution_count": null,
      "metadata": {
        "colab": {
          "base_uri": "https://localhost:8080/"
        },
        "id": "jFs5DBBNykg2",
        "outputId": "bb57b657-73cc-4dc0-85e4-1615b8680c3d"
      },
      "outputs": [],
      "source": [
        "from google.colab import drive\n",
        "drive.mount('/content/drive')"
      ]
    },
    {
      "cell_type": "code",
      "execution_count": 2,
      "metadata": {
        "id": "DGSyPdF50Z_h"
      },
      "outputs": [],
      "source": [
        "import sys\n",
        "root_path = '/content/drive/MyDrive/basketball-broadcaster'\n",
        "sys.path.append(root_path)\n",
        "\n",
        "import os\n",
        "os.chdir(root_path)\n",
        "\n",
        "import cv2\n",
        "from inference.yolov8 import YOLOv8\n",
        "from norfair import Video\n",
        "import time\n"
      ]
    },
    {
      "attachments": {},
      "cell_type": "markdown",
      "metadata": {
        "id": "-V-Hq29mLIEk"
      },
      "source": [
        "Select between the 5 YOLO8 model sizes"
      ]
    },
    {
      "cell_type": "code",
      "execution_count": 3,
      "metadata": {
        "id": "2tDAvGvL59Yq"
      },
      "outputs": [],
      "source": [
        "player_detector = YOLOv8('yolov8n.pt') # 'yolov8n.pt', 'yolov8s.pt', 'yolov8m.pt', 'yolov8l.pt' or 'yolov8x.pt'"
      ]
    },
    {
      "attachments": {},
      "cell_type": "markdown",
      "metadata": {
        "id": "LIv-K6BAGwML"
      },
      "source": [
        "Inference on a video file: the result video is outputtted in the drive root folder. For the example video below, the file \"test1_clip_out.mp4\" is outputted."
      ]
    },
    {
      "cell_type": "code",
      "execution_count": null,
      "metadata": {
        "id": "AnlE0Mud5P2L"
      },
      "outputs": [],
      "source": [
        "video = Video(input_path='videos/test1_clip.mp4')\n",
        "\n",
        "frame_cnt = 0\n",
        "total_time = 0\n",
        "for i, frame in enumerate(video):\n",
        "    st = time.time()\n",
        "    boxes, scores, class_ids = player_detector.detect(frame)\n",
        "    elapsed = time.time() - st\n",
        "\n",
        "    total_time += elapsed\n",
        "    fps = frame_cnt // total_time\n",
        "\n",
        "    frame = player_detector.draw_detection(frame, boxes, scores, class_ids)\n",
        "\n",
        "    h, w = frame.shape[:2]\n",
        "    cv2.putText(frame, 'FPS: {}'.format(fps), (100, 50), cv2.FONT_HERSHEY_SIMPLEX,\n",
        "                1.0, (255, 0, 0), 2, cv2.LINE_AA)\n",
        "\n",
        "    frame_cnt += 1\n",
        "    video.write(frame)"
      ]
    }
  ],
  "metadata": {
    "accelerator": "GPU",
    "colab": {
      "provenance": []
    },
    "kernelspec": {
      "display_name": "Python 3",
      "name": "python3"
    },
    "language_info": {
      "name": "python"
    }
  },
  "nbformat": 4,
  "nbformat_minor": 0
}
