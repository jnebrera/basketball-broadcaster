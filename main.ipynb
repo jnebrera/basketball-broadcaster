{
  "cells": [
    {
      "cell_type": "markdown",
      "metadata": {
        "id": "JcYTgxODsT8G"
      },
      "source": [
        "**Milestone 1**\n",
        "(Player detection using the YOLOv8 models trained on COCO dataset)"
      ]
    },
    {
      "cell_type": "markdown",
      "metadata": {
        "id": "L-FnxsDczL_x"
      },
      "source": [
        "To install dependencies\n",
        "\n",
        "Note: After installation, please restart the runtime if it is required."
      ]
    },
    {
      "cell_type": "code",
      "execution_count": null,
      "metadata": {
        "colab": {
          "base_uri": "https://localhost:8080/"
        },
        "id": "ln2GTx-RzLJy",
        "outputId": "676bfa0c-10c3-4967-a576-2e57886c0e46"
      },
      "outputs": [],
      "source": [
        "!pip install ultralytics\n",
        "!pip install av"
      ]
    },
    {
      "cell_type": "code",
      "execution_count": null,
      "metadata": {
        "colab": {
          "base_uri": "https://localhost:8080/"
        },
        "id": "jFs5DBBNykg2",
        "outputId": "277df9fb-14fb-4b3c-9b2e-a103ec583eb9"
      },
      "outputs": [],
      "source": [
        "from google.colab import drive\n",
        "drive.mount('/content/drive')"
      ]
    },
    {
      "cell_type": "code",
      "execution_count": null,
      "metadata": {
        "colab": {
          "base_uri": "https://localhost:8080/"
        },
        "id": "DGSyPdF50Z_h",
        "outputId": "66e7d49b-a309-4ab4-916d-3f89f41e45fb"
      },
      "outputs": [],
      "source": [
        "import sys\n",
        "root_path = '/content/drive/MyDrive/basketball-broadcaster'\n",
        "sys.path.append(root_path)\n",
        "\n",
        "import os\n",
        "os.chdir(root_path)\n",
        "\n",
        "import cv2\n",
        "from yolov8 import YOLOv8\n",
        "import time\n",
        "import av\n",
        "import numpy as np\n",
        "from PIL import Image\n",
        "import time\n",
        "\n",
        "# We can use YOLOv8 models in 5 different sizes(bigger is better but slower)\n",
        "player_detector = YOLOv8('yolov8n.pt') # 'yolov8n.pt', 'yolov8s.pt', 'yolov8m.pt', 'yolov8l.pt' or 'yolov8x.pt'"
      ]
    },
    {
      "cell_type": "code",
      "execution_count": null,
      "metadata": {},
      "outputs": [],
      "source": [
        "# Initialize videio Input and Output streams\n",
        "input_ = av.open(\"videos/test1_clip.mp4\")\n",
        "output = av.open(\"output.mp4\", \"w\")\n",
        "\n",
        "# Make an output video stream using the input video stream as a template\n",
        "in_video_stream = input_.streams.video[0]\n",
        "out_video_stream = output.add_stream(codec_name=\"h264\",\n",
        "                                     width=in_video_stream.width,\n",
        "                                     height=in_video_stream.height,\n",
        "                                     rate=int(in_video_stream.average_rate),\n",
        "                                     bit_rate = in_video_stream.bit_rate,\n",
        "                                     pix_fmt=in_video_stream.pix_fmt)\n",
        "\n",
        "# Make an output audio stream using the input audio stream as a template\n",
        "in_audio_stream = input_.streams.audio[0]\n",
        "out_audio_stream = output.add_stream(template=in_audio_stream)\n",
        "\n",
        "st = time.time()\n",
        "\n",
        "for packet in input_.demux():\n",
        "    # We need to skip the \"flushing\" packets that `demux` generates.\n",
        "    if packet.dts is None:\n",
        "        continue\n",
        "\n",
        "    if packet.stream == in_video_stream:\n",
        "        for frame in packet.decode():\n",
        "            # To get an input frame\n",
        "            image = frame.to_image()\n",
        "            image = np.asarray(image)\n",
        "            image = cv2.cvtColor(image, cv2.COLOR_RGB2BGR)\n",
        "\n",
        "            # To process the input frame\n",
        "            boxes, scores, class_ids = player_detector.detect(image)\n",
        "            image = player_detector.draw_detection(image, boxes, scores, class_ids)\n",
        "            image = cv2.cvtColor(image, cv2.COLOR_BGR2RGB)\n",
        "            image = Image.fromarray(image)\n",
        "\n",
        "            output_frame = av.VideoFrame.from_image(image)\n",
        "            output_frame.pts = None\n",
        "            for output_packet in out_video_stream.encode(output_frame):\n",
        "                # Write the packets to the container\n",
        "                output_packet.stream = out_video_stream\n",
        "                output.mux(output_packet)\n",
        "    elif packet.stream == in_audio_stream:\n",
        "        packet.stream = out_audio_stream\n",
        "        output.mux(packet)\n",
        "\n",
        "elapsed = time.time() - st"
      ]
    },
    {
      "cell_type": "code",
      "execution_count": null,
      "metadata": {},
      "outputs": [],
      "source": [
        "# Close video streams\n",
        "input_.close()\n",
        "output.close()"
      ]
    },
    {
      "cell_type": "code",
      "execution_count": null,
      "metadata": {
        "colab": {
          "base_uri": "https://localhost:8080/"
        },
        "id": "VAVRfzu0a1aD",
        "outputId": "ec4e5c65-3481-4b50-c0cd-18578e5364ac"
      },
      "outputs": [],
      "source": [
        "# To print the FPS\n",
        "print('Processing FPS: ', int(in_video_stream.frames / elapsed))"
      ]
    }
  ],
  "metadata": {
    "accelerator": "GPU",
    "colab": {
      "provenance": []
    },
    "kernelspec": {
      "display_name": "Python 3",
      "name": "python3"
    },
    "language_info": {
      "name": "python"
    }
  },
  "nbformat": 4,
  "nbformat_minor": 0
}
